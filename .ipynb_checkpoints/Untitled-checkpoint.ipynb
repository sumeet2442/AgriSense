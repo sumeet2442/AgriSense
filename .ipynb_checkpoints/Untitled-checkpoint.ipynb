{
 "cells": [
  {
   "cell_type": "code",
   "execution_count": 2,
   "id": "13a9ba69",
   "metadata": {},
   "outputs": [
    {
     "name": "stdout",
     "output_type": "stream",
     "text": [
      " * Serving Flask app '__main__'\n",
      " * Debug mode: on\n"
     ]
    },
    {
     "name": "stderr",
     "output_type": "stream",
     "text": [
      "WARNING: This is a development server. Do not use it in a production deployment. Use a production WSGI server instead.\n",
      " * Running on http://127.0.0.1:5000\n",
      "Press CTRL+C to quit\n",
      " * Restarting with watchdog (windowsapi)\n"
     ]
    },
    {
     "ename": "SystemExit",
     "evalue": "1",
     "output_type": "error",
     "traceback": [
      "An exception has occurred, use %tb to see the full traceback.\n",
      "\u001b[1;31mSystemExit\u001b[0m\u001b[1;31m:\u001b[0m 1\n"
     ]
    }
   ],
   "source": [
    "from flask import Flask, request, render_template\n",
    "import sklearn\n",
    "import pickle\n",
    "import pandas as pd\n",
    "import os\n",
    "\n",
    "app = Flask(__name__)   # Initializing flask\n",
    "# Loading our model:\n",
    "model = pickle.load(open(\"RFmodel.pkl\", \"rb\"))\n",
    "\n",
    "@app.route(\"/\")\n",
    "def home():\n",
    "    return render_template(\"home.html\")\n",
    "\n",
    "@app.route(\"/predict\", methods = [\"GET\", \"POST\"])\n",
    "def predict():\n",
    "    if request.method == \"POST\":\n",
    "        \n",
    "        # Nitrogen\n",
    "        nitrogen = float(request.form[\"nitrogen\"])\n",
    "        \n",
    "        # Phosphorus\n",
    "        phosphorus = float(request.form[\"phosphorus\"])\n",
    "        \n",
    "        # Potassium\n",
    "        potassium = float(request.form[\"potassium\"])\n",
    "        \n",
    "        # Temperature\n",
    "        temperature = float(request.form[\"temperature\"])\n",
    "        \n",
    "        # Humidity Level\n",
    "        humidity = float(request.form[\"humidity\"])\n",
    "        \n",
    "        # PH level\n",
    "        phLevel = float(request.form[\"ph-level\"])\n",
    "        \n",
    "        # Rainfall\n",
    "        rainfall = float(request.form[\"rainfall\"])\n",
    "        \n",
    "        # Making predictions from the values:\n",
    "        predictions = model.predict([[nitrogen, phosphorus, potassium, temperature, humidity, phLevel, rainfall]])\n",
    "        \n",
    "        output = predictions[0]\n",
    "        finalOutput = output.capitalize()\n",
    "        \n",
    "        if (output == \"rice\" or output == \"blackgram\" or output == \"pomegranate\" or output == \"papaya\"\n",
    "            or output == \"cotton\" or output == \"orange\" or output == \"coffee\" or output == \"chickpea\"\n",
    "            or output == \"mothbeans\" or output == \"pigeonpeas\" or output == \"jute\" or output == \"mungbeans\"\n",
    "            or output == \"lentil\" or output == \"maize\" or output == \"apple\"):\n",
    "            cropStatement = finalOutput + \" should be harvested. It's a Kharif crop, so it must be sown at the beginning of the rainy season e.g between April and May.\"\n",
    "                            \n",
    "\n",
    "        elif (output == \"muskmelon\" or output == \"kidneybeans\" or output == \"coconut\" or output == \"grapes\" or output == \"banana\"):\n",
    "            cropStatement = finalOutput + \" should be harvested. It's a Rabi crop, so it must be sown at the end of monsoon and beginning of winter season e.g between September and October.\"\n",
    "            \n",
    "        elif (output == \"watermelon\"):\n",
    "            cropStatement = finalOutput + \" should be harvested. It's a Zaid Crop, so it must be sown between the Kharif and rabi season i.e between March and June.\"\n",
    "        \n",
    "        elif (output == \"mango\"):\n",
    "            cropStatement = finalOutput + \" should be harvested. It's a cash crop and also perennial. So you can grow it anytime.\"\n",
    "        \n",
    "              \n",
    "                \n",
    "    return render_template('CropResult.html', prediction_text=cropStatement)\n",
    "        \n",
    "\n",
    "if __name__ == '__main__':\n",
    "    app.run(debug=True)"
   ]
  },
  {
   "cell_type": "code",
   "execution_count": null,
   "id": "aca3e5ae",
   "metadata": {},
   "outputs": [],
   "source": []
  }
 ],
 "metadata": {
  "kernelspec": {
   "display_name": "Python 3 (ipykernel)",
   "language": "python",
   "name": "python3"
  },
  "language_info": {
   "codemirror_mode": {
    "name": "ipython",
    "version": 3
   },
   "file_extension": ".py",
   "mimetype": "text/x-python",
   "name": "python",
   "nbconvert_exporter": "python",
   "pygments_lexer": "ipython3",
   "version": "3.11.5"
  }
 },
 "nbformat": 4,
 "nbformat_minor": 5
}
